{
 "cells": [
  {
   "cell_type": "markdown",
   "id": "33dd7528",
   "metadata": {},
   "source": [
    "# Data Science Tools and Ecosystem "
   ]
  },
  {
   "cell_type": "markdown",
   "id": "ac291098",
   "metadata": {},
   "source": [
    "In this notebook, Data Science and Ecosystem are summarized."
   ]
  },
  {
   "cell_type": "markdown",
   "id": "540f20f6",
   "metadata": {},
   "source": [
    "Some of the popular languages that Data Scientists use are:\n",
    "    1. Python \n",
    "    2. R\n",
    "    3. SQL\n",
    "    4. C++\n",
    "    5. Java "
   ]
  },
  {
   "cell_type": "markdown",
   "id": "4d4bd1dc",
   "metadata": {},
   "source": [
    "Some of the commonly used libraries used by Data Scientists include:\n",
    "    1. TensorFlow\n",
    "    2. Numpy\n",
    "    3. SciPy\n",
    "    4. Pandas\n",
    "    5. Matplotlib\n",
    "    6. Keras\n",
    "    7. SciKit-Learn.\n",
    "    8. PyTorch"
   ]
  },
  {
   "cell_type": "markdown",
   "id": "510d8365",
   "metadata": {},
   "source": [
    "|Data Science Tools|\n",
    "|---|\n",
    "|SAS|\n",
    "|Apache Hadoop|\n",
    "|TensorFlow|"
   ]
  },
  {
   "cell_type": "markdown",
   "id": "521eeea6",
   "metadata": {},
   "source": [
    "### Below are a few examples of evaluating arithmetic expressions in Python"
   ]
  },
  {
   "cell_type": "code",
   "execution_count": 2,
   "id": "3220f782",
   "metadata": {},
   "outputs": [
    {
     "data": {
      "text/plain": [
       "17"
      ]
     },
     "execution_count": 2,
     "metadata": {},
     "output_type": "execute_result"
    }
   ],
   "source": [
    "#this  is a common arithmetic example to multiply and then add integers\n",
    "(3*4)+5"
   ]
  },
  {
   "cell_type": "code",
   "execution_count": 3,
   "id": "21e42673",
   "metadata": {},
   "outputs": [
    {
     "data": {
      "text/plain": [
       "3.3333333333333335"
      ]
     },
     "execution_count": 3,
     "metadata": {},
     "output_type": "execute_result"
    }
   ],
   "source": [
    "#This will convert 200 minutes to hours by diving by 60\n",
    "200/60"
   ]
  },
  {
   "cell_type": "markdown",
   "id": "0d4bcf4f",
   "metadata": {},
   "source": [
    "__Objectives__\n",
    "* List popular languages for Data Science\n",
    "* List popular libraries for Data Science\n",
    "* List of well known Data Science Tools\n",
    "* How to provide comments in the cell"
   ]
  },
  {
   "cell_type": "markdown",
   "id": "e24029a0",
   "metadata": {},
   "source": [
    "## Author\n",
    "Dhanush"
   ]
  }
 ],
 "metadata": {
  "kernelspec": {
   "display_name": "Python 3 (ipykernel)",
   "language": "python",
   "name": "python3"
  },
  "language_info": {
   "codemirror_mode": {
    "name": "ipython",
    "version": 3
   },
   "file_extension": ".py",
   "mimetype": "text/x-python",
   "name": "python",
   "nbconvert_exporter": "python",
   "pygments_lexer": "ipython3",
   "version": "3.10.9"
  }
 },
 "nbformat": 4,
 "nbformat_minor": 5
}
